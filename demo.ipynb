{
 "cells": [
  {
   "cell_type": "code",
   "execution_count": 67,
   "metadata": {},
   "outputs": [],
   "source": [
    "import pandas as pd\n",
    "from openai import OpenAI\n",
    "import ast\n",
    "import numpy as np\n",
    "import pdb\n",
    "import os\n",
    "from dotenv import load_dotenv\n",
    "\n",
    "load_dotenv()\n",
    "api_key = os.getenv(\"OPENAI_API_KEY\")\n",
    "\n",
    "client = OpenAI(\n",
    "    api_key = api_key\n",
    ")"
   ]
  },
  {
   "cell_type": "code",
   "execution_count": 68,
   "metadata": {},
   "outputs": [],
   "source": [
    "file = open('./giannis.txt')\n",
    "text = file.read()"
   ]
  },
  {
   "cell_type": "code",
   "execution_count": 40,
   "metadata": {},
   "outputs": [],
   "source": [
    "def chunk(txt):\n",
    "    paragraphs = []\n",
    "    splat = txt.split('\\n\\n')\n",
    "    for line in splat:\n",
    "        paragraphs.append(line)\n",
    "    return paragraphs"
   ]
  },
  {
   "cell_type": "code",
   "execution_count": 41,
   "metadata": {},
   "outputs": [],
   "source": [
    "chunks = pd.DataFrame(data=chunk(text), columns={'text': 'text'})"
   ]
  },
  {
   "cell_type": "code",
   "execution_count": 42,
   "metadata": {},
   "outputs": [
    {
     "data": {
      "text/html": [
       "<div>\n",
       "<style scoped>\n",
       "    .dataframe tbody tr th:only-of-type {\n",
       "        vertical-align: middle;\n",
       "    }\n",
       "\n",
       "    .dataframe tbody tr th {\n",
       "        vertical-align: top;\n",
       "    }\n",
       "\n",
       "    .dataframe thead th {\n",
       "        text-align: right;\n",
       "    }\n",
       "</style>\n",
       "<table border=\"1\" class=\"dataframe\">\n",
       "  <thead>\n",
       "    <tr style=\"text-align: right;\">\n",
       "      <th></th>\n",
       "      <th>text</th>\n",
       "    </tr>\n",
       "  </thead>\n",
       "  <tbody>\n",
       "    <tr>\n",
       "      <th>0</th>\n",
       "      <td>Jump to content</td>\n",
       "    </tr>\n",
       "    <tr>\n",
       "      <th>1</th>\n",
       "      <td>Main menu</td>\n",
       "    </tr>\n",
       "    <tr>\n",
       "      <th>2</th>\n",
       "      <td>Main menu move to sidebar hide</td>\n",
       "    </tr>\n",
       "    <tr>\n",
       "      <th>3</th>\n",
       "      <td>Navigation</td>\n",
       "    </tr>\n",
       "    <tr>\n",
       "      <th>4</th>\n",
       "      <td>Main page Contents Current events Random artic...</td>\n",
       "    </tr>\n",
       "  </tbody>\n",
       "</table>\n",
       "</div>"
      ],
      "text/plain": [
       "                                                text\n",
       "0                                    Jump to content\n",
       "1                                          Main menu\n",
       "2                     Main menu move to sidebar hide\n",
       "3                                         Navigation\n",
       "4  Main page Contents Current events Random artic..."
      ]
     },
     "execution_count": 42,
     "metadata": {},
     "output_type": "execute_result"
    }
   ],
   "source": [
    "chunks.head(5)"
   ]
  },
  {
   "cell_type": "code",
   "execution_count": 43,
   "metadata": {},
   "outputs": [],
   "source": [
    "def get_embedding(text, model=\"text-embedding-3-small\"):\n",
    "   text = text.replace(\"\\n\", \" \")\n",
    "   return client.embeddings.create(input = [text], model=model).data[0].embedding"
   ]
  },
  {
   "cell_type": "code",
   "execution_count": 44,
   "metadata": {},
   "outputs": [],
   "source": [
    "chunks['embeddings'] = chunks['text'].apply(get_embedding)\n",
    "chunks.to_csv('./giannis-with-embeddings', index=False)\n",
    "chunks.to_pickle('./giannis-with-embeddings.pkl')"
   ]
  },
  {
   "cell_type": "code",
   "execution_count": 45,
   "metadata": {},
   "outputs": [
    {
     "data": {
      "text/html": [
       "<div>\n",
       "<style scoped>\n",
       "    .dataframe tbody tr th:only-of-type {\n",
       "        vertical-align: middle;\n",
       "    }\n",
       "\n",
       "    .dataframe tbody tr th {\n",
       "        vertical-align: top;\n",
       "    }\n",
       "\n",
       "    .dataframe thead th {\n",
       "        text-align: right;\n",
       "    }\n",
       "</style>\n",
       "<table border=\"1\" class=\"dataframe\">\n",
       "  <thead>\n",
       "    <tr style=\"text-align: right;\">\n",
       "      <th></th>\n",
       "      <th>text</th>\n",
       "      <th>embeddings</th>\n",
       "    </tr>\n",
       "  </thead>\n",
       "  <tbody>\n",
       "    <tr>\n",
       "      <th>0</th>\n",
       "      <td>Jump to content</td>\n",
       "      <td>[0.009784935042262077, 0.016955072060227394, -...</td>\n",
       "    </tr>\n",
       "    <tr>\n",
       "      <th>1</th>\n",
       "      <td>Main menu</td>\n",
       "      <td>[-0.016432739794254303, 0.05875169113278389, 0...</td>\n",
       "    </tr>\n",
       "    <tr>\n",
       "      <th>2</th>\n",
       "      <td>Main menu move to sidebar hide</td>\n",
       "      <td>[-0.04941752180457115, 0.015163028612732887, -...</td>\n",
       "    </tr>\n",
       "    <tr>\n",
       "      <th>3</th>\n",
       "      <td>Navigation</td>\n",
       "      <td>[-0.025431305170059204, 0.04099149629473686, 0...</td>\n",
       "    </tr>\n",
       "    <tr>\n",
       "      <th>4</th>\n",
       "      <td>Main page Contents Current events Random artic...</td>\n",
       "      <td>[0.032835181802511215, 0.01653081551194191, 0....</td>\n",
       "    </tr>\n",
       "  </tbody>\n",
       "</table>\n",
       "</div>"
      ],
      "text/plain": [
       "                                                text  \\\n",
       "0                                    Jump to content   \n",
       "1                                          Main menu   \n",
       "2                     Main menu move to sidebar hide   \n",
       "3                                         Navigation   \n",
       "4  Main page Contents Current events Random artic...   \n",
       "\n",
       "                                          embeddings  \n",
       "0  [0.009784935042262077, 0.016955072060227394, -...  \n",
       "1  [-0.016432739794254303, 0.05875169113278389, 0...  \n",
       "2  [-0.04941752180457115, 0.015163028612732887, -...  \n",
       "3  [-0.025431305170059204, 0.04099149629473686, 0...  \n",
       "4  [0.032835181802511215, 0.01653081551194191, 0....  "
      ]
     },
     "execution_count": 45,
     "metadata": {},
     "output_type": "execute_result"
    }
   ],
   "source": [
    "df = pd.read_pickle('./giannis-with-embeddings.pkl')\n",
    "df.head()"
   ]
  },
  {
   "cell_type": "code",
   "execution_count": 46,
   "metadata": {},
   "outputs": [],
   "source": [
    "question = 'What did gianniss father do for work'"
   ]
  },
  {
   "cell_type": "code",
   "execution_count": 47,
   "metadata": {},
   "outputs": [
    {
     "data": {
      "text/html": [
       "<div>\n",
       "<style scoped>\n",
       "    .dataframe tbody tr th:only-of-type {\n",
       "        vertical-align: middle;\n",
       "    }\n",
       "\n",
       "    .dataframe tbody tr th {\n",
       "        vertical-align: top;\n",
       "    }\n",
       "\n",
       "    .dataframe thead th {\n",
       "        text-align: right;\n",
       "    }\n",
       "</style>\n",
       "<table border=\"1\" class=\"dataframe\">\n",
       "  <thead>\n",
       "    <tr style=\"text-align: right;\">\n",
       "      <th></th>\n",
       "      <th>text</th>\n",
       "      <th>embeddings</th>\n",
       "      <th>distance</th>\n",
       "    </tr>\n",
       "  </thead>\n",
       "  <tbody>\n",
       "    <tr>\n",
       "      <th>0</th>\n",
       "      <td>Jump to content</td>\n",
       "      <td>[0.009784935042262077, 0.016955072060227394, -...</td>\n",
       "      <td>0.121148</td>\n",
       "    </tr>\n",
       "    <tr>\n",
       "      <th>1</th>\n",
       "      <td>Main menu</td>\n",
       "      <td>[-0.016432739794254303, 0.05875169113278389, 0...</td>\n",
       "      <td>0.134117</td>\n",
       "    </tr>\n",
       "    <tr>\n",
       "      <th>2</th>\n",
       "      <td>Main menu move to sidebar hide</td>\n",
       "      <td>[-0.04941752180457115, 0.015163028612732887, -...</td>\n",
       "      <td>0.094728</td>\n",
       "    </tr>\n",
       "    <tr>\n",
       "      <th>3</th>\n",
       "      <td>Navigation</td>\n",
       "      <td>[-0.025431305170059204, 0.04099149629473686, 0...</td>\n",
       "      <td>0.155599</td>\n",
       "    </tr>\n",
       "    <tr>\n",
       "      <th>4</th>\n",
       "      <td>Main page Contents Current events Random artic...</td>\n",
       "      <td>[0.032835181802511215, 0.01653081551194191, 0....</td>\n",
       "      <td>0.100018</td>\n",
       "    </tr>\n",
       "  </tbody>\n",
       "</table>\n",
       "</div>"
      ],
      "text/plain": [
       "                                                text  \\\n",
       "0                                    Jump to content   \n",
       "1                                          Main menu   \n",
       "2                     Main menu move to sidebar hide   \n",
       "3                                         Navigation   \n",
       "4  Main page Contents Current events Random artic...   \n",
       "\n",
       "                                          embeddings  distance  \n",
       "0  [0.009784935042262077, 0.016955072060227394, -...  0.121148  \n",
       "1  [-0.016432739794254303, 0.05875169113278389, 0...  0.134117  \n",
       "2  [-0.04941752180457115, 0.015163028612732887, -...  0.094728  \n",
       "3  [-0.025431305170059204, 0.04099149629473686, 0...  0.155599  \n",
       "4  [0.032835181802511215, 0.01653081551194191, 0....  0.100018  "
      ]
     },
     "execution_count": 47,
     "metadata": {},
     "output_type": "execute_result"
    }
   ],
   "source": [
    "question_embedding = get_embedding(question)\n",
    "\n",
    "def fn(page_embedding):\n",
    "    return np.dot(page_embedding, question_embedding)\n",
    "\n",
    "df['distance'] = df['embeddings'].apply(fn)\n",
    "df.head()"
   ]
  },
  {
   "cell_type": "code",
   "execution_count": 48,
   "metadata": {},
   "outputs": [
    {
     "data": {
      "text/html": [
       "<div>\n",
       "<style scoped>\n",
       "    .dataframe tbody tr th:only-of-type {\n",
       "        vertical-align: middle;\n",
       "    }\n",
       "\n",
       "    .dataframe tbody tr th {\n",
       "        vertical-align: top;\n",
       "    }\n",
       "\n",
       "    .dataframe thead th {\n",
       "        text-align: right;\n",
       "    }\n",
       "</style>\n",
       "<table border=\"1\" class=\"dataframe\">\n",
       "  <thead>\n",
       "    <tr style=\"text-align: right;\">\n",
       "      <th></th>\n",
       "      <th>text</th>\n",
       "      <th>embeddings</th>\n",
       "      <th>distance</th>\n",
       "    </tr>\n",
       "  </thead>\n",
       "  <tbody>\n",
       "    <tr>\n",
       "      <th>104</th>\n",
       "      <td>Early life As the son of immigrants from Niger...</td>\n",
       "      <td>[0.0007357422146014869, 0.008205491118133068, ...</td>\n",
       "      <td>0.380660</td>\n",
       "    </tr>\n",
       "    <tr>\n",
       "      <th>312</th>\n",
       "      <td>Following their son and brother, the entire An...</td>\n",
       "      <td>[-0.016756076365709305, 0.029105279594659805, ...</td>\n",
       "      <td>0.367623</td>\n",
       "    </tr>\n",
       "    <tr>\n",
       "      <th>310</th>\n",
       "      <td>Personal life Giannis and Thanasis Antetokounm...</td>\n",
       "      <td>[0.024478189647197723, 0.0037096617743372917, ...</td>\n",
       "      <td>0.355506</td>\n",
       "    </tr>\n",
       "    <tr>\n",
       "      <th>550</th>\n",
       "      <td>^ \"Giannis is a dad! Bucks star and girlfriend...</td>\n",
       "      <td>[-0.018812131136655807, 0.022889845073223114, ...</td>\n",
       "      <td>0.320180</td>\n",
       "    </tr>\n",
       "    <tr>\n",
       "      <th>350</th>\n",
       "      <td>^ \"\"Giannis\", Behind the Name\". Archived from ...</td>\n",
       "      <td>[-0.0028413839172571898, 0.016048384830355644,...</td>\n",
       "      <td>0.316122</td>\n",
       "    </tr>\n",
       "  </tbody>\n",
       "</table>\n",
       "</div>"
      ],
      "text/plain": [
       "                                                  text  \\\n",
       "104  Early life As the son of immigrants from Niger...   \n",
       "312  Following their son and brother, the entire An...   \n",
       "310  Personal life Giannis and Thanasis Antetokounm...   \n",
       "550  ^ \"Giannis is a dad! Bucks star and girlfriend...   \n",
       "350  ^ \"\"Giannis\", Behind the Name\". Archived from ...   \n",
       "\n",
       "                                            embeddings  distance  \n",
       "104  [0.0007357422146014869, 0.008205491118133068, ...  0.380660  \n",
       "312  [-0.016756076365709305, 0.029105279594659805, ...  0.367623  \n",
       "310  [0.024478189647197723, 0.0037096617743372917, ...  0.355506  \n",
       "550  [-0.018812131136655807, 0.022889845073223114, ...  0.320180  \n",
       "350  [-0.0028413839172571898, 0.016048384830355644,...  0.316122  "
      ]
     },
     "execution_count": 48,
     "metadata": {},
     "output_type": "execute_result"
    }
   ],
   "source": [
    "df.sort_values('distance', ascending=False, inplace=True)\n",
    "df.head()"
   ]
  },
  {
   "cell_type": "code",
   "execution_count": 49,
   "metadata": {},
   "outputs": [
    {
     "name": "stdout",
     "output_type": "stream",
     "text": [
      "Early life As the son of immigrants from Nigeria,[12][13][14] Giannis Sina Ugo Adétòkunbọ̀[15][16] was born in Athens, Greece, on December 6, 1994.[17] His father was a soccer player and his mother was a high jumper in Nigeria. Three years earlier, they had moved from Lagos, leaving their firstborn son, Francis, under the care of his grandparents.[18] Adétòkunbọ̀ grew up in the Athens neighborhood of Sepolia[14] in a primarily Nigerian household.[19] His parents, as immigrants without work permits,[20] could not easily find work, so Giannis and his older brother Thanasis helped by hawking watches, handbags, and sunglasses in the streets.[21] In 2007, Adétòkunbọ̀ started playing basketball.[22]\n",
      "Following their son and brother, the entire Antetokounmpo family, except for Francis and Thanasis, moved from Athens to Milwaukee in early 2014.[220] In July 2016, Giannis and Thanasis began their mandatory military service in Greece. The two brothers served a reduced three-month military service, as prescribed for Greek citizens who are permanent overseas residents.[221]Personal life Giannis and Thanasis Antetokounmpo playing basketball at a local court in Sepolia, Athens, in 2015 Antetokounmpo's father, Charles, was a Nigerian football player, while his mother, Veronica, is a former high jumper.[18] Charles died in September 2017, at age 54.[61] Veronica gave each of her five sons both Greek and Nigerian names, choosing the Nigerian Ugo (/ˈuːɡoʊ/ OO-goh) for Giannis.[214][215] His parents are from different Nigerian ethnic groups—Charles was Yoruba, while Veronica is Igbo. According to basketball great Hakeem Olajuwon, also Yoruba, the original family name of Adétòkunbọ̀ translates to \"the crown has returned from overseas\".[15] Giannis wears the number 34 in honor of his parents, who were born in 1963 and 1964.[216]^ \"\"Giannis\", Behind the Name\". Archived from the original on January 20, 2022. Retrieved July 22, 2021.\n"
     ]
    }
   ],
   "source": [
    "context = df['text'].iloc[0] + \"\\n\" + df['text'].iloc[1] + df['text'].iloc[2] + df['text'].iloc[4]\n",
    "print(context)"
   ]
  },
  {
   "cell_type": "code",
   "execution_count": 62,
   "metadata": {},
   "outputs": [],
   "source": [
    "response = client.chat.completions.create(\n",
    "    model='gpt-3.5-turbo',\n",
    "    messages=[\n",
    "        {'role': 'system', 'content': 'You are an assistant who answers questions about Giannis Antetokounmpo. If the question does not involve Giannis Antetokounmpo, you should not answer it.'},\n",
    "        {'role': 'user', 'content': question},\n",
    "        {'role': 'assistant', 'content': f\"Use this information from the Giannis Antetokounmpo Wikipedia to answer the question: {context}. Please stick to this context while answering the question\"},\n",
    "    ]\n",
    ")"
   ]
  },
  {
   "cell_type": "code",
   "execution_count": 52,
   "metadata": {},
   "outputs": [
    {
     "data": {
      "text/plain": [
       "\"Giannis Antetokounmpo's father, Charles, was a Nigerian football player.\""
      ]
     },
     "execution_count": 52,
     "metadata": {},
     "output_type": "execute_result"
    }
   ],
   "source": [
    "response.choices[0].message.content"
   ]
  },
  {
   "cell_type": "code",
   "execution_count": 63,
   "metadata": {},
   "outputs": [],
   "source": [
    "def query(question):\n",
    "    response = client.chat.completions.create(\n",
    "    model='gpt-3.5-turbo',\n",
    "    messages=[\n",
    "        {'role': 'system', 'content': 'You are an assistant who answers questions about Giannis Antetokounmpo. If the question does not involve Giannis Antetokounmpo, you should not answer it.'},\n",
    "        {'role': 'user', 'content': question},\n",
    "        {'role': 'assistant', 'content': f\"Use this information from the Giannis Antetokounmpo Wikipedia to answer the question: {context}. Please stick to this context while answering the question. If the answer is not explicityly stated in the context. Answer with I do not know\"},\n",
    "    ]\n",
    "    )\n",
    "    return response.choices[0].message.content"
   ]
  },
  {
   "cell_type": "code",
   "execution_count": 64,
   "metadata": {},
   "outputs": [
    {
     "data": {
      "text/plain": [
       "'Giannis Antetokounmpo has four brothers: Francis, Thanasis, Kostas, and Alex.'"
      ]
     },
     "execution_count": 64,
     "metadata": {},
     "output_type": "execute_result"
    }
   ],
   "source": [
    "query(\"Who are giannis's brothers?\")"
   ]
  },
  {
   "cell_type": "code",
   "execution_count": 60,
   "metadata": {},
   "outputs": [
    {
     "data": {
      "text/plain": [
       "\"I do not know Giannis Antetokounmpo's PPG.\""
      ]
     },
     "execution_count": 60,
     "metadata": {},
     "output_type": "execute_result"
    }
   ],
   "source": [
    "query(\"What is giannis's ppg\")"
   ]
  },
  {
   "cell_type": "code",
   "execution_count": 61,
   "metadata": {},
   "outputs": [
    {
     "data": {
      "text/plain": [
       "\"Giannis Antetokounmpo's ethnicity is of Nigerian descent. His parents are from different Nigerian ethnic groups, with his father being Yoruba and his mother being Igbo.\""
      ]
     },
     "execution_count": 61,
     "metadata": {},
     "output_type": "execute_result"
    }
   ],
   "source": [
    "query(\"Tell me about gianis's ethnicity\")"
   ]
  },
  {
   "cell_type": "code",
   "execution_count": null,
   "metadata": {},
   "outputs": [],
   "source": []
  }
 ],
 "metadata": {
  "kernelspec": {
   "display_name": ".venv",
   "language": "python",
   "name": "python3"
  },
  "language_info": {
   "codemirror_mode": {
    "name": "ipython",
    "version": 3
   },
   "file_extension": ".py",
   "mimetype": "text/x-python",
   "name": "python",
   "nbconvert_exporter": "python",
   "pygments_lexer": "ipython3",
   "version": "3.11.5"
  },
  "orig_nbformat": 4
 },
 "nbformat": 4,
 "nbformat_minor": 2
}
